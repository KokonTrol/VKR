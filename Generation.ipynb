{
 "cells": [
  {
   "cell_type": "code",
   "execution_count": 1,
   "metadata": {},
   "outputs": [],
   "source": [
    "from faker import Faker"
   ]
  },
  {
   "cell_type": "code",
   "execution_count": 3,
   "metadata": {},
   "outputs": [],
   "source": [
    "class Discipline:\n",
    "    def __init__(self) -> None:\n",
    "        self.name = \"\"\n",
    "\n",
    "class Exam:\n",
    "    def __init__(self) -> None:\n",
    "        self.name = \"\"\n",
    "        self.count = 0\n",
    "\n",
    "class Student:\n",
    "    def __init__(self) -> None:\n",
    "        self.name = \"\"\n",
    "        self.exams = []\n",
    "        self.city = \"\"\n",
    "        self.disciplines = []\n",
    "    \n",
    "    def __str__(self) -> str:\n",
    "        return self.name\n",
    "\n",
    "students = []"
   ]
  },
  {
   "cell_type": "code",
   "execution_count": 8,
   "metadata": {},
   "outputs": [
    {
     "name": "stdout",
     "output_type": "stream",
     "text": [
      "['Лукин Арсений Харлампьевич', 'Жанна Леонидовна Титова', 'Полина Захаровна Суворова', 'Одинцов Архип Тарасович', 'Нинель Степановна Пономарева', 'Калашников Панкратий Давидович', 'Владимиров Галактион Георгиевич', 'Терентьев Панкратий Валерьевич', 'Королев Август Фёдорович', 'Варвара Викторовна Иванова', 'Доронина Глафира Павловна', 'Денисова Ия Ниловна', 'Мартын Феофанович Морозов', 'Гордеева Акулина Алексеевна', 'Шаров Изот Эдгарович', 'Соболев Творимир Адрианович', 'Никитина Алла Максимовна', 'Ладимир Ерофеевич Лихачев', 'Алексеева Ольга Борисовна', 'Алла Вадимовна Баранова']\n"
     ]
    }
   ],
   "source": [
    "Faker.seed()\n",
    "fake = Faker(\"ru_RU\")\n",
    "students = []\n",
    "for i in range (20):\n",
    "    students.append(Student())\n",
    "    students[-1].name = fake.name()\n",
    "\n",
    "print([str(i) for i in students])"
   ]
  },
  {
   "cell_type": "code",
   "execution_count": 9,
   "metadata": {},
   "outputs": [],
   "source": [
    "from random import Random\n",
    "rand = Random()"
   ]
  },
  {
   "cell_type": "code",
   "execution_count": 10,
   "metadata": {},
   "outputs": [],
   "source": [
    "disciplines = [\"Математический анализ\", \"Алгебра и геометрия\", \"Дифференциальные и разностные уравнения\", \"Математическая статистика\"]\n",
    "additionExam = [\"Информатика и ИКТ\", \"Физика\", \"Химия\", \"Иностранный язык\"]"
   ]
  },
  {
   "cell_type": "code",
   "execution_count": 13,
   "metadata": {},
   "outputs": [
    {
     "name": "stdout",
     "output_type": "stream",
     "text": [
      "Лукин Арсений Харлампьевич ['Математика 82', 'Русский язык 73', 'Иностранный язык 59']\n",
      "Жанна Леонидовна Титова ['Математика 88', 'Русский язык 69', 'Физика 96']\n",
      "Полина Захаровна Суворова ['Математика 100', 'Русский язык 50', 'Иностранный язык 89']\n",
      "Одинцов Архип Тарасович ['Математика 86', 'Русский язык 77', 'Иностранный язык 94']\n",
      "Нинель Степановна Пономарева ['Математика 96', 'Русский язык 96', 'Иностранный язык 64']\n",
      "Калашников Панкратий Давидович ['Математика 84', 'Русский язык 59', 'Информатика и ИКТ 76']\n",
      "Владимиров Галактион Георгиевич ['Математика 95', 'Русский язык 90', 'Физика 82']\n",
      "Терентьев Панкратий Валерьевич ['Математика 59', 'Русский язык 71', 'Информатика и ИКТ 94']\n",
      "Королев Август Фёдорович ['Математика 53', 'Русский язык 75', 'Информатика и ИКТ 63']\n",
      "Варвара Викторовна Иванова ['Математика 65', 'Русский язык 72', 'Химия 68']\n",
      "Доронина Глафира Павловна ['Математика 74', 'Русский язык 59', 'Иностранный язык 81']\n",
      "Денисова Ия Ниловна ['Математика 46', 'Русский язык 82', 'Информатика и ИКТ 48']\n",
      "Мартын Феофанович Морозов ['Математика 80', 'Русский язык 75', 'Информатика и ИКТ 62']\n",
      "Гордеева Акулина Алексеевна ['Математика 90', 'Русский язык 93', 'Информатика и ИКТ 66']\n",
      "Шаров Изот Эдгарович ['Математика 46', 'Русский язык 52', 'Информатика и ИКТ 61']\n",
      "Соболев Творимир Адрианович ['Математика 97', 'Русский язык 48', 'Химия 99']\n",
      "Никитина Алла Максимовна ['Математика 65', 'Русский язык 62', 'Химия 83']\n",
      "Ладимир Ерофеевич Лихачев ['Математика 61', 'Русский язык 98', 'Физика 66']\n",
      "Алексеева Ольга Борисовна ['Математика 63', 'Русский язык 62', 'Информатика и ИКТ 46']\n",
      "Алла Вадимовна Баранова ['Математика 95', 'Русский язык 90', 'Физика 97']\n"
     ]
    }
   ],
   "source": [
    "for stud in students:\n",
    "    stud.exams = []\n",
    "\n",
    "    stud.exams.append(Exam())\n",
    "    stud.exams[-1].name = \"Математика\"\n",
    "    stud.exams[-1].count = rand.randint(45, 100)\n",
    "\n",
    "    stud.exams.append(Exam())\n",
    "    stud.exams[-1].name = \"Русский язык\"\n",
    "    stud.exams[-1].count = rand.randint(45, 100)\n",
    "\n",
    "for stud in students:\n",
    "    stud.exams.append(Exam())\n",
    "    stud.exams[-1].name = additionExam[rand.randint(0, len(additionExam))]\n",
    "    stud.exams[-1].count = rand.randint(45, 100)\n",
    "\n",
    "for stud in students:\n",
    "    print(stud.name, [f\"{ex.name} {ex.count}\" for ex in stud.exams])\n"
   ]
  },
  {
   "cell_type": "code",
   "execution_count": null,
   "metadata": {},
   "outputs": [],
   "source": []
  }
 ],
 "metadata": {
  "kernelspec": {
   "display_name": "Python 3.10.0 ('venv': venv)",
   "language": "python",
   "name": "python3"
  },
  "language_info": {
   "codemirror_mode": {
    "name": "ipython",
    "version": 3
   },
   "file_extension": ".py",
   "mimetype": "text/x-python",
   "name": "python",
   "nbconvert_exporter": "python",
   "pygments_lexer": "ipython3",
   "version": "3.10.0"
  },
  "orig_nbformat": 4,
  "vscode": {
   "interpreter": {
    "hash": "f1d65dd5122738e2411b9c5460de6054fd732e6a235deadacfc6438ecab8c11f"
   }
  }
 },
 "nbformat": 4,
 "nbformat_minor": 2
}
